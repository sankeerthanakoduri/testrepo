{
 "cells": [
  {
   "cell_type": "code",
   "execution_count": 1,
   "id": "42b4b73f-b268-40cb-b7b6-0a4d28aab8c7",
   "metadata": {},
   "outputs": [],
   "source": [
    "import pandas as pd \n",
    "import numpy as np \n",
    "import matplotlib.pyplot as plt \n",
    "import seaborn as sns"
   ]
  },
  {
   "cell_type": "code",
   "execution_count": 3,
   "id": "4264924f-1085-443c-ba9d-72f6a1b2d853",
   "metadata": {},
   "outputs": [],
   "source": [
    "data = pd.read_csv(r\"C:\\Users\\DELL\\Downloads\\survey_data (1).csv.crdownload\")"
   ]
  },
  {
   "cell_type": "code",
   "execution_count": 5,
   "id": "ff6e7743-dda3-425c-9f51-1e59962b0640",
   "metadata": {},
   "outputs": [
    {
     "name": "stdout",
     "output_type": "stream",
     "text": [
      "0\n"
     ]
    }
   ],
   "source": [
    "duplicates = data.duplicated().sum()\n",
    "print(duplicates)"
   ]
  },
  {
   "cell_type": "code",
   "execution_count": 11,
   "id": "4518ff88-c0c8-4c23-92a1-75371654afc3",
   "metadata": {},
   "outputs": [
    {
     "name": "stdout",
     "output_type": "stream",
     "text": [
      "Empty DataFrame\n",
      "Columns: [ResponseId, MainBranch, Age, Employment, RemoteWork, Check, CodingActivities, EdLevel, LearnCode, LearnCodeOnline, TechDoc, YearsCode, YearsCodePro, DevType, OrgSize, PurchaseInfluence, BuyNewTool, BuildvsBuy, TechEndorse, Country, Currency, CompTotal, LanguageHaveWorkedWith, LanguageWantToWorkWith, LanguageAdmired, DatabaseHaveWorkedWith, DatabaseWantToWorkWith, DatabaseAdmired, PlatformHaveWorkedWith, PlatformWantToWorkWith, PlatformAdmired, WebframeHaveWorkedWith, WebframeWantToWorkWith, WebframeAdmired, EmbeddedHaveWorkedWith, EmbeddedWantToWorkWith, EmbeddedAdmired, MiscTechHaveWorkedWith, MiscTechWantToWorkWith, MiscTechAdmired, ToolsTechHaveWorkedWith, ToolsTechWantToWorkWith, ToolsTechAdmired, NEWCollabToolsHaveWorkedWith, NEWCollabToolsWantToWorkWith, NEWCollabToolsAdmired, OpSysPersonal use, OpSysProfessional use, OfficeStackAsyncHaveWorkedWith, OfficeStackAsyncWantToWorkWith, OfficeStackAsyncAdmired, OfficeStackSyncHaveWorkedWith, OfficeStackSyncWantToWorkWith, OfficeStackSyncAdmired, AISearchDevHaveWorkedWith, AISearchDevWantToWorkWith, AISearchDevAdmired, NEWSOSites, SOVisitFreq, SOAccount, SOPartFreq, SOHow, SOComm, AISelect, AISent, AIBen, AIAcc, AIComplex, AIToolCurrently Using, AIToolInterested in Using, AIToolNot interested in Using, AINextMuch more integrated, AINextNo change, AINextMore integrated, AINextLess integrated, AINextMuch less integrated, AIThreat, AIEthics, AIChallenges, TBranch, ICorPM, WorkExp, Knowledge_1, Knowledge_2, Knowledge_3, Knowledge_4, Knowledge_5, Knowledge_6, Knowledge_7, Knowledge_8, Knowledge_9, Frequency_1, Frequency_2, Frequency_3, TimeSearching, TimeAnswering, Frustration, ProfessionalTech, ProfessionalCloud, ProfessionalQuestion, ...]\n",
      "Index: []\n",
      "\n",
      "[0 rows x 114 columns]\n"
     ]
    }
   ],
   "source": [
    "duplicated_rows = data[data.duplicated()]\n",
    "print(duplicated_rows.head())"
   ]
  },
  {
   "cell_type": "code",
   "execution_count": 13,
   "id": "23c268e1-c1f7-4f0a-9c5a-c9ff4ccaa721",
   "metadata": {},
   "outputs": [
    {
     "name": "stdout",
     "output_type": "stream",
     "text": [
      "Shape after removing duplicates: (2892, 114)\n"
     ]
    }
   ],
   "source": [
    "data_cleaned = data.drop_duplicates()\n",
    "print(\"Shape after removing duplicates:\", data_cleaned.shape)"
   ]
  },
  {
   "cell_type": "code",
   "execution_count": 15,
   "id": "84325f9e-6d4b-46e4-9515-64c7ea5618ee",
   "metadata": {},
   "outputs": [
    {
     "name": "stdout",
     "output_type": "stream",
     "text": [
      "Number of duplicate rows after removal: 0\n"
     ]
    }
   ],
   "source": [
    "num_duplicates = data_cleaned.duplicated().sum()\n",
    "print(\"Number of duplicate rows after removal:\", num_duplicates)"
   ]
  },
  {
   "cell_type": "code",
   "execution_count": 17,
   "id": "ef3e53be-4cbb-4882-ac39-5560342a372b",
   "metadata": {},
   "outputs": [
    {
     "name": "stdout",
     "output_type": "stream",
     "text": [
      "Missing Values in Each Column:\n",
      " RemoteWork              478\n",
      "CodingActivities        479\n",
      "LearnCode                 8\n",
      "LearnCodeOnline         487\n",
      "TechDoc                 826\n",
      "                       ... \n",
      "JobSatPoints_11        1386\n",
      "SurveyLength             44\n",
      "SurveyEase               39\n",
      "ConvertedCompYearly    1483\n",
      "JobSat                 1408\n",
      "Length: 108, dtype: int64\n"
     ]
    }
   ],
   "source": [
    "missing_values = data.isnull().sum()\n",
    "missing_values = missing_values[missing_values > 0]\n",
    "print(\"Missing Values in Each Column:\\n\", missing_values)"
   ]
  },
  {
   "cell_type": "code",
   "execution_count": 19,
   "id": "705a8853-df5c-4c26-8cdc-a203bcbf9f0f",
   "metadata": {},
   "outputs": [
    {
     "name": "stdout",
     "output_type": "stream",
     "text": [
      "Missing values in 'EdLevel' after imputation: 0\n"
     ]
    },
    {
     "name": "stderr",
     "output_type": "stream",
     "text": [
      "C:\\Users\\DELL\\AppData\\Local\\Temp\\ipykernel_3500\\945690782.py:2: FutureWarning: A value is trying to be set on a copy of a DataFrame or Series through chained assignment using an inplace method.\n",
      "The behavior will change in pandas 3.0. This inplace method will never work because the intermediate object on which we are setting values always behaves as a copy.\n",
      "\n",
      "For example, when doing 'df[col].method(value, inplace=True)', try using 'df.method({col: value}, inplace=True)' or df[col] = df[col].method(value) instead, to perform the operation inplace on the original object.\n",
      "\n",
      "\n",
      "  data['EdLevel'].fillna(most_frequent_value, inplace=True)\n"
     ]
    }
   ],
   "source": [
    "most_frequent_value = data['EdLevel'].mode()[0]\n",
    "data['EdLevel'].fillna(most_frequent_value, inplace=True)\n",
    "print(\"Missing values in 'EdLevel' after imputation:\", data['EdLevel'].isnull().sum())"
   ]
  },
  {
   "cell_type": "code",
   "execution_count": 21,
   "id": "d164a26f-e073-40af-902c-3e83c9279369",
   "metadata": {},
   "outputs": [
    {
     "name": "stdout",
     "output_type": "stream",
     "text": [
      "Missing values in ConvertedCompYearly: 1483\n"
     ]
    }
   ],
   "source": [
    "missing_comp = data['ConvertedCompYearly'].isnull().sum()\n",
    "print(\"Missing values in ConvertedCompYearly:\", missing_comp)"
   ]
  },
  {
   "cell_type": "code",
   "execution_count": 23,
   "id": "4e83e5e4-14a6-40e9-909f-236ae15d5a26",
   "metadata": {},
   "outputs": [
    {
     "name": "stdout",
     "output_type": "stream",
     "text": [
      "Missing values in ConvertedCompYearly after imputation: 0\n"
     ]
    },
    {
     "name": "stderr",
     "output_type": "stream",
     "text": [
      "C:\\Users\\DELL\\AppData\\Local\\Temp\\ipykernel_3500\\2995671824.py:2: FutureWarning: A value is trying to be set on a copy of a DataFrame or Series through chained assignment using an inplace method.\n",
      "The behavior will change in pandas 3.0. This inplace method will never work because the intermediate object on which we are setting values always behaves as a copy.\n",
      "\n",
      "For example, when doing 'df[col].method(value, inplace=True)', try using 'df.method({col: value}, inplace=True)' or df[col] = df[col].method(value) instead, to perform the operation inplace on the original object.\n",
      "\n",
      "\n",
      "  data['ConvertedCompYearly'].fillna(median_comp, inplace=True)\n"
     ]
    }
   ],
   "source": [
    "median_comp = data['ConvertedCompYearly'].median()\n",
    "data['ConvertedCompYearly'].fillna(median_comp, inplace=True)\n",
    "print(\"Missing values in ConvertedCompYearly after imputation:\", data['ConvertedCompYearly'].isnull().sum())"
   ]
  },
  {
   "cell_type": "code",
   "execution_count": null,
   "id": "1d220ffc-2e11-4fcd-8c8f-ef9d362309ef",
   "metadata": {},
   "outputs": [],
   "source": []
  }
 ],
 "metadata": {
  "kernelspec": {
   "display_name": "Python [conda env:base] *",
   "language": "python",
   "name": "conda-base-py"
  },
  "language_info": {
   "codemirror_mode": {
    "name": "ipython",
    "version": 3
   },
   "file_extension": ".py",
   "mimetype": "text/x-python",
   "name": "python",
   "nbconvert_exporter": "python",
   "pygments_lexer": "ipython3",
   "version": "3.12.7"
  }
 },
 "nbformat": 4,
 "nbformat_minor": 5
}
