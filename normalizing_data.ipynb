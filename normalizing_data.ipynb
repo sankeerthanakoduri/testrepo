{
 "cells": [
  {
   "cell_type": "code",
   "execution_count": 1,
   "id": "9c88835c-115d-42c1-849c-f112ad2fe8fa",
   "metadata": {},
   "outputs": [],
   "source": [
    "import pandas as pd \n",
    "import numpy as np \n",
    "from matplotlib import pyplot as plt \n",
    "import seaborn as sns"
   ]
  },
  {
   "cell_type": "code",
   "execution_count": 3,
   "id": "64382cde-e123-4985-88f5-cbea6ed4d656",
   "metadata": {},
   "outputs": [
    {
     "name": "stdout",
     "output_type": "stream",
     "text": [
      "   ResponseId                      MainBranch                 Age  \\\n",
      "0           1  I am a developer by profession  Under 18 years old   \n",
      "1           2  I am a developer by profession     35-44 years old   \n",
      "2           3  I am a developer by profession     45-54 years old   \n",
      "3           4           I am learning to code     18-24 years old   \n",
      "4           5  I am a developer by profession     18-24 years old   \n",
      "\n",
      "            Employment RemoteWork   Check  \\\n",
      "0  Employed, full-time     Remote  Apples   \n",
      "1  Employed, full-time     Remote  Apples   \n",
      "2  Employed, full-time     Remote  Apples   \n",
      "3   Student, full-time        NaN  Apples   \n",
      "4   Student, full-time        NaN  Apples   \n",
      "\n",
      "                                    CodingActivities  \\\n",
      "0                                              Hobby   \n",
      "1  Hobby;Contribute to open-source projects;Other...   \n",
      "2  Hobby;Contribute to open-source projects;Other...   \n",
      "3                                                NaN   \n",
      "4                                                NaN   \n",
      "\n",
      "                                             EdLevel  \\\n",
      "0                          Primary/elementary school   \n",
      "1       Bachelor’s degree (B.A., B.S., B.Eng., etc.)   \n",
      "2    Master’s degree (M.A., M.S., M.Eng., MBA, etc.)   \n",
      "3  Some college/university study without earning ...   \n",
      "4  Secondary school (e.g. American high school, G...   \n",
      "\n",
      "                                           LearnCode  \\\n",
      "0                             Books / Physical media   \n",
      "1  Books / Physical media;Colleague;On the job tr...   \n",
      "2  Books / Physical media;Colleague;On the job tr...   \n",
      "3  Other online resources (e.g., videos, blogs, f...   \n",
      "4  Other online resources (e.g., videos, blogs, f...   \n",
      "\n",
      "                                     LearnCodeOnline  ... JobSatPoints_6  \\\n",
      "0                                                NaN  ...            NaN   \n",
      "1  Technical documentation;Blogs;Books;Written Tu...  ...            0.0   \n",
      "2  Technical documentation;Blogs;Books;Written Tu...  ...            NaN   \n",
      "3  Stack Overflow;How-to videos;Interactive tutorial  ...            NaN   \n",
      "4  Technical documentation;Blogs;Written Tutorial...  ...            NaN   \n",
      "\n",
      "  JobSatPoints_7 JobSatPoints_8 JobSatPoints_9 JobSatPoints_10  \\\n",
      "0            NaN            NaN            NaN             NaN   \n",
      "1            0.0            0.0            0.0             0.0   \n",
      "2            NaN            NaN            NaN             NaN   \n",
      "3            NaN            NaN            NaN             NaN   \n",
      "4            NaN            NaN            NaN             NaN   \n",
      "\n",
      "  JobSatPoints_11           SurveyLength SurveyEase ConvertedCompYearly JobSat  \n",
      "0             NaN                    NaN        NaN                 NaN    NaN  \n",
      "1             0.0                    NaN        NaN                 NaN    NaN  \n",
      "2             NaN  Appropriate in length       Easy                 NaN    NaN  \n",
      "3             NaN               Too long       Easy                 NaN    NaN  \n",
      "4             NaN              Too short       Easy                 NaN    NaN  \n",
      "\n",
      "[5 rows x 114 columns]\n"
     ]
    }
   ],
   "source": [
    "data = pd.read_csv(r\"C:\\Users\\DELL\\Downloads\\survey_data (1).csv.crdownload\")\n",
    "print(data.head())"
   ]
  },
  {
   "cell_type": "code",
   "execution_count": 5,
   "id": "5b8db9c1-935b-427d-a715-8cb6460e09ab",
   "metadata": {},
   "outputs": [
    {
     "name": "stdout",
     "output_type": "stream",
     "text": [
      "Number of duplicate rows: 0\n"
     ]
    }
   ],
   "source": [
    "duplicates = data.duplicated().sum()\n",
    "print(\"Number of duplicate rows:\", duplicates)"
   ]
  },
  {
   "cell_type": "code",
   "execution_count": 7,
   "id": "6bd19b36-d622-4a49-abb7-a16731a0e0ef",
   "metadata": {},
   "outputs": [
    {
     "name": "stdout",
     "output_type": "stream",
     "text": [
      "Number of duplicate rows after removal: 0\n"
     ]
    }
   ],
   "source": [
    "data.drop_duplicates(inplace=True)\n",
    "duplicate_count_after = data.duplicated().sum()\n",
    "print(\"Number of duplicate rows after removal:\", duplicate_count_after)"
   ]
  },
  {
   "cell_type": "code",
   "execution_count": 9,
   "id": "31e5ecd8-e646-40ba-a85b-f0369dd0d669",
   "metadata": {},
   "outputs": [
    {
     "data": {
      "text/plain": [
       "479"
      ]
     },
     "execution_count": 9,
     "metadata": {},
     "output_type": "execute_result"
    }
   ],
   "source": [
    "data['CodingActivities'].isna().sum()"
   ]
  },
  {
   "cell_type": "code",
   "execution_count": 11,
   "id": "757aecfc-6437-4d7d-9b4b-0cece7fda328",
   "metadata": {},
   "outputs": [
    {
     "name": "stderr",
     "output_type": "stream",
     "text": [
      "C:\\Users\\DELL\\AppData\\Local\\Temp\\ipykernel_28536\\1225017418.py:1: FutureWarning: A value is trying to be set on a copy of a DataFrame or Series through chained assignment using an inplace method.\n",
      "The behavior will change in pandas 3.0. This inplace method will never work because the intermediate object on which we are setting values always behaves as a copy.\n",
      "\n",
      "For example, when doing 'df[col].method(value, inplace=True)', try using 'df.method({col: value}, inplace=True)' or df[col] = df[col].method(value) instead, to perform the operation inplace on the original object.\n",
      "\n",
      "\n",
      "  data['CodingActivities'].fillna(method='ffill', inplace=True)\n",
      "C:\\Users\\DELL\\AppData\\Local\\Temp\\ipykernel_28536\\1225017418.py:1: FutureWarning: Series.fillna with 'method' is deprecated and will raise in a future version. Use obj.ffill() or obj.bfill() instead.\n",
      "  data['CodingActivities'].fillna(method='ffill', inplace=True)\n"
     ]
    }
   ],
   "source": [
    "data['CodingActivities'].fillna(method='ffill', inplace=True)"
   ]
  },
  {
   "cell_type": "code",
   "execution_count": 13,
   "id": "9720a7d4-64fc-4b2e-a652-e800ead0c1f6",
   "metadata": {},
   "outputs": [
    {
     "data": {
      "text/plain": [
       "0"
      ]
     },
     "execution_count": 13,
     "metadata": {},
     "output_type": "execute_result"
    }
   ],
   "source": [
    "data['CodingActivities'].isna().sum()"
   ]
  },
  {
   "cell_type": "code",
   "execution_count": 15,
   "id": "88034c62-b68e-49fc-8df8-79047ab17a03",
   "metadata": {},
   "outputs": [
    {
     "name": "stdout",
     "output_type": "stream",
     "text": [
      "compensation related columns: ['CompTotal', 'AIComplex', 'ConvertedCompYearly']\n"
     ]
    }
   ],
   "source": [
    "comp = [col for col in data.columns if 'Comp' in col or 'Salary' in col or 'Pay' in col]\n",
    "print(f'compensation related columns:', comp)"
   ]
  },
  {
   "cell_type": "code",
   "execution_count": 17,
   "id": "dd5c5a35-92ca-4fe7-bc0c-f0ae1b271781",
   "metadata": {},
   "outputs": [],
   "source": [
    "from sklearn.preprocessing import MinMaxScaler"
   ]
  },
  {
   "cell_type": "code",
   "execution_count": 19,
   "id": "819a3898-3cdc-40b7-ad8c-a8b8d242a535",
   "metadata": {},
   "outputs": [],
   "source": [
    "scaler = MinMaxScaler()"
   ]
  },
  {
   "cell_type": "code",
   "execution_count": 23,
   "id": "cc308afe-2514-40c9-9f4c-8e564583a256",
   "metadata": {},
   "outputs": [
    {
     "name": "stdout",
     "output_type": "stream",
     "text": [
      "   ConvertedCompYearly  ConvertedCompYearly_MinMax\n",
      "0                  NaN                         NaN\n",
      "1                  NaN                         NaN\n",
      "2                  NaN                         NaN\n",
      "3                  NaN                         NaN\n",
      "4                  NaN                         NaN\n"
     ]
    }
   ],
   "source": [
    "data['ConvertedCompYearly_MinMax'] = scaler.fit_transform(data[['ConvertedCompYearly']])\n",
    "print(data[['ConvertedCompYearly', 'ConvertedCompYearly_MinMax']].head())"
   ]
  },
  {
   "cell_type": "code",
   "execution_count": 25,
   "id": "81ed0a1f-69f3-40e3-a17f-3cf13d3723fd",
   "metadata": {},
   "outputs": [
    {
     "name": "stdout",
     "output_type": "stream",
     "text": [
      "Min value after scaling: 0.0\n",
      "Max value after scaling: 1.0\n"
     ]
    }
   ],
   "source": [
    "print(\"Min value after scaling:\", data['ConvertedCompYearly_MinMax'].min())\n",
    "print(\"Max value after scaling:\", data['ConvertedCompYearly_MinMax'].max())"
   ]
  },
  {
   "cell_type": "code",
   "execution_count": 29,
   "id": "4d5f35b4-331b-4c8c-b919-b5f01295e34a",
   "metadata": {},
   "outputs": [
    {
     "name": "stdout",
     "output_type": "stream",
     "text": [
      "   ConvertedCompYearly  ConvertedCompYearly_zscore\n",
      "0                  NaN                         NaN\n",
      "1                  NaN                         NaN\n",
      "2                  NaN                         NaN\n",
      "3                  NaN                         NaN\n",
      "4                  NaN                         NaN\n"
     ]
    }
   ],
   "source": [
    "from scipy.stats import zscore \n",
    "data['ConvertedCompYearly_zscore'] = zscore(data['ConvertedCompYearly'])\n",
    "print(data[['ConvertedCompYearly', 'ConvertedCompYearly_zscore']].head())"
   ]
  },
  {
   "cell_type": "code",
   "execution_count": 33,
   "id": "ae390e84-08b9-4042-97be-b13290414efb",
   "metadata": {},
   "outputs": [
    {
     "name": "stdout",
     "output_type": "stream",
     "text": [
      "Mean after Z-score normalization: nan\n",
      "Standard deviation after Z-score normalization: nan\n"
     ]
    }
   ],
   "source": [
    "print(\"Mean after Z-score normalization:\", data['ConvertedCompYearly_zscore'].mean())\n",
    "print(\"Standard deviation after Z-score normalization:\", data['ConvertedCompYearly_zscore'].std())"
   ]
  },
  {
   "cell_type": "code",
   "execution_count": 47,
   "id": "e943d118-a025-4527-9a38-c39457ce5a3b",
   "metadata": {},
   "outputs": [
    {
     "data": {
      "image/png": "[encoded data removed]",
      "text/plain": [
       "<Figure size 1000x500 with 3 Axes>"
      ]
     },
     "metadata": {},
     "output_type": "display_data"
    }
   ],
   "source": [
    "sns.set_style(\"whitegrid\")\n",
    "fig, axes = plt.subplots(1, 3, figsize=(10, 5))\n",
    "\n",
    "#histogram for original compensation data\n",
    "sns.histplot(data['ConvertedCompYearly'], bins=30, kde=True, ax=axes[0], color='blue')\n",
    "axes[0].set_title('Original ConvertedCompYearly')\n",
    "axes[0].set_xlabel('Compensation')\n",
    "axes[0].set_ylabel('Frequency')\n",
    "\n",
    "#histogram for Min-Max normalized data\n",
    "sns.histplot(data['ConvertedCompYearly_MinMax'], bins=30, kde=True, ax=axes[1], color='green')\n",
    "axes[1].set_title('Min-Max Normalized Compensation')\n",
    "axes[1].set_xlabel('Scaled Compensation (0-1)')\n",
    "axes[1].set_ylabel('Frequency')\n",
    "\n",
    "#histogram for Z-score normalized data\n",
    "sns.histplot(data['ConvertedCompYearly_zscore'], bins=30, kde=True, ax=axes[2], color='red')\n",
    "axes[2].set_title('Z-score Normalized Compensation')\n",
    "axes[2].set_xlabel('Standardized Compensation')\n",
    "axes[2].set_ylabel('Frequency')\n",
    "plt.tight_layout()\n",
    "plt.show()"
   ]
  },
  {
   "cell_type": "code",
   "execution_count": null,
   "id": "e1d4bc6e-ae0d-4fa6-830f-1401c54a2d1b",
   "metadata": {},
   "outputs": [],
   "source": []
  }
 ],
 "metadata": {
  "kernelspec": {
   "display_name": "Python [conda env:base] *",
   "language": "python",
   "name": "conda-base-py"
  },
  "language_info": {
   "codemirror_mode": {
    "name": "ipython",
    "version": 3
   },
   "file_extension": ".py",
   "mimetype": "text/x-python",
   "name": "python",
   "nbconvert_exporter": "python",
   "pygments_lexer": "ipython3",
   "version": "3.12.7"
  }
 },
 "nbformat": 4,
 "nbformat_minor": 5
}
