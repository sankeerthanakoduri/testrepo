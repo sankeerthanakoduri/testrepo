{
 "cells": [
  {
   "cell_type": "code",
   "execution_count": 1,
   "id": "f3a04540-11ba-4cc2-811f-2a20f9a4a75b",
   "metadata": {},
   "outputs": [],
   "source": [
    "import pandas as pd \n",
    "import matplotlib.pyplot as plt \n",
    "import seaborn as sns "
   ]
  },
  {
   "cell_type": "code",
   "execution_count": 3,
   "id": "eecd87c6-4cc0-4669-9acb-efe70734239a",
   "metadata": {},
   "outputs": [
    {
     "name": "stdout",
     "output_type": "stream",
     "text": [
      "   ResponseId                      MainBranch                 Age  \\\n",
      "0           1  I am a developer by profession  Under 18 years old   \n",
      "1           2  I am a developer by profession     35-44 years old   \n",
      "2           3  I am a developer by profession     45-54 years old   \n",
      "3           4           I am learning to code     18-24 years old   \n",
      "4           5  I am a developer by profession     18-24 years old   \n",
      "\n",
      "            Employment RemoteWork   Check  \\\n",
      "0  Employed, full-time     Remote  Apples   \n",
      "1  Employed, full-time     Remote  Apples   \n",
      "2  Employed, full-time     Remote  Apples   \n",
      "3   Student, full-time        NaN  Apples   \n",
      "4   Student, full-time        NaN  Apples   \n",
      "\n",
      "                                    CodingActivities  \\\n",
      "0                                              Hobby   \n",
      "1  Hobby;Contribute to open-source projects;Other...   \n",
      "2  Hobby;Contribute to open-source projects;Other...   \n",
      "3                                                NaN   \n",
      "4                                                NaN   \n",
      "\n",
      "                                             EdLevel  \\\n",
      "0                          Primary/elementary school   \n",
      "1       Bachelor’s degree (B.A., B.S., B.Eng., etc.)   \n",
      "2    Master’s degree (M.A., M.S., M.Eng., MBA, etc.)   \n",
      "3  Some college/university study without earning ...   \n",
      "4  Secondary school (e.g. American high school, G...   \n",
      "\n",
      "                                           LearnCode  \\\n",
      "0                             Books / Physical media   \n",
      "1  Books / Physical media;Colleague;On the job tr...   \n",
      "2  Books / Physical media;Colleague;On the job tr...   \n",
      "3  Other online resources (e.g., videos, blogs, f...   \n",
      "4  Other online resources (e.g., videos, blogs, f...   \n",
      "\n",
      "                                     LearnCodeOnline  ... JobSatPoints_6  \\\n",
      "0                                                NaN  ...            NaN   \n",
      "1  Technical documentation;Blogs;Books;Written Tu...  ...            0.0   \n",
      "2  Technical documentation;Blogs;Books;Written Tu...  ...            NaN   \n",
      "3  Stack Overflow;How-to videos;Interactive tutorial  ...            NaN   \n",
      "4  Technical documentation;Blogs;Written Tutorial...  ...            NaN   \n",
      "\n",
      "  JobSatPoints_7 JobSatPoints_8 JobSatPoints_9 JobSatPoints_10  \\\n",
      "0            NaN            NaN            NaN             NaN   \n",
      "1            0.0            0.0            0.0             0.0   \n",
      "2            NaN            NaN            NaN             NaN   \n",
      "3            NaN            NaN            NaN             NaN   \n",
      "4            NaN            NaN            NaN             NaN   \n",
      "\n",
      "  JobSatPoints_11           SurveyLength SurveyEase ConvertedCompYearly JobSat  \n",
      "0             NaN                    NaN        NaN                 NaN    NaN  \n",
      "1             0.0                    NaN        NaN                 NaN    NaN  \n",
      "2             NaN  Appropriate in length       Easy                 NaN    NaN  \n",
      "3             NaN               Too long       Easy                 NaN    NaN  \n",
      "4             NaN              Too short       Easy                 NaN    NaN  \n",
      "\n",
      "[5 rows x 114 columns]\n"
     ]
    }
   ],
   "source": [
    "data = pd.read_csv(r\"C:\\Users\\DELL\\Downloads\\survey_data (1).csv.crdownload\")\n",
    "print(data.head())"
   ]
  },
  {
   "cell_type": "code",
   "execution_count": 5,
   "id": "ca20c244-75a9-41fc-a303-14e9f3eadcc2",
   "metadata": {},
   "outputs": [
    {
     "name": "stdout",
     "output_type": "stream",
     "text": [
      "duplicate rows: ResponseId                0\n",
      "MainBranch                0\n",
      "Age                       0\n",
      "Employment                0\n",
      "RemoteWork              478\n",
      "                       ... \n",
      "JobSatPoints_11        1386\n",
      "SurveyLength             44\n",
      "SurveyEase               39\n",
      "ConvertedCompYearly    1483\n",
      "JobSat                 1408\n",
      "Length: 114, dtype: int64\n"
     ]
    }
   ],
   "source": [
    "duplicates = data.isnull().sum()\n",
    "print('duplicate rows:', duplicates)"
   ]
  },
  {
   "cell_type": "code",
   "execution_count": 7,
   "id": "830c7647-d088-4d4b-b129-76af07a20ce0",
   "metadata": {},
   "outputs": [],
   "source": [
    "data.drop_duplicates(inplace=True)"
   ]
  },
  {
   "cell_type": "code",
   "execution_count": 9,
   "id": "51b12166-36b9-48c0-bb17-082929496962",
   "metadata": {},
   "outputs": [
    {
     "name": "stdout",
     "output_type": "stream",
     "text": [
      "after removing duplicates: 0\n"
     ]
    }
   ],
   "source": [
    "duplicate_removed = data.duplicated().sum()\n",
    "print(f'after removing duplicates:', duplicate_removed)"
   ]
  },
  {
   "cell_type": "code",
   "execution_count": 11,
   "id": "c1994614-b787-4e8f-8823-d6c727ec9edc",
   "metadata": {},
   "outputs": [
    {
     "name": "stdout",
     "output_type": "stream",
     "text": [
      "Missing values in each column:\n",
      " RemoteWork              478\n",
      "CodingActivities        479\n",
      "LearnCode                 8\n",
      "LearnCodeOnline         487\n",
      "TechDoc                 826\n",
      "                       ... \n",
      "JobSatPoints_11        1386\n",
      "SurveyLength             44\n",
      "SurveyEase               39\n",
      "ConvertedCompYearly    1483\n",
      "JobSat                 1408\n",
      "Length: 108, dtype: int64\n"
     ]
    }
   ],
   "source": [
    "missing_values = data.isnull().sum()\n",
    "missing_values = missing_values[missing_values > 0]\n",
    "print(\"Missing values in each column:\\n\", missing_values)"
   ]
  },
  {
   "cell_type": "code",
   "execution_count": 17,
   "id": "220420fe-aeb6-4d6b-aa95-ded574314efe",
   "metadata": {},
   "outputs": [
    {
     "name": "stdout",
     "output_type": "stream",
     "text": [
      "missing rows in remotework: 478\n"
     ]
    }
   ],
   "source": [
    "remotework_missing = data['RemoteWork'].isna().sum()\n",
    "print(f'missing rows in remotework:', remotework_missing)"
   ]
  },
  {
   "cell_type": "code",
   "execution_count": 19,
   "id": "f4a2c05c-1024-4354-ad4b-e004454e1a48",
   "metadata": {},
   "outputs": [
    {
     "data": {
      "text/plain": [
       "RemoteWork\n",
       "Remote                                  1149\n",
       "Hybrid (some remote, some in-person)     858\n",
       "In-person                                407\n",
       "Name: count, dtype: int64"
      ]
     },
     "execution_count": 19,
     "metadata": {},
     "output_type": "execute_result"
    }
   ],
   "source": [
    "data['RemoteWork'].value_counts()"
   ]
  },
  {
   "cell_type": "code",
   "execution_count": 21,
   "id": "a4384aed-2ab9-4ea7-8439-3364d938fd7b",
   "metadata": {},
   "outputs": [
    {
     "name": "stdout",
     "output_type": "stream",
     "text": [
      "Most frequent value in 'RemoteWork': Remote\n"
     ]
    }
   ],
   "source": [
    "most_frequent_remote_work = data['RemoteWork'].mode()[0]\n",
    "print(\"Most frequent value in 'RemoteWork':\", most_frequent_remote_work)"
   ]
  },
  {
   "cell_type": "code",
   "execution_count": 25,
   "id": "e701cb19-eedb-4d5b-b723-7a7687f61462",
   "metadata": {},
   "outputs": [
    {
     "data": {
      "text/plain": [
       "0                                     Remote\n",
       "1                                     Remote\n",
       "2                                     Remote\n",
       "3                                     Remote\n",
       "4                                     Remote\n",
       "                        ...                 \n",
       "2887                               In-person\n",
       "2888                               In-person\n",
       "2889    Hybrid (some remote, some in-person)\n",
       "2890    Hybrid (some remote, some in-person)\n",
       "2891                                  Remote\n",
       "Name: RemoteWork, Length: 2892, dtype: object"
      ]
     },
     "execution_count": 25,
     "metadata": {},
     "output_type": "execute_result"
    }
   ],
   "source": [
    "data['RemoteWork'].fillna(data['RemoteWork'].mode()[0])"
   ]
  },
  {
   "cell_type": "code",
   "execution_count": 29,
   "id": "bd00f8f0-80a5-4107-a8eb-3ec1b62261bc",
   "metadata": {},
   "outputs": [
    {
     "name": "stdout",
     "output_type": "stream",
     "text": [
      "Missing values in 'RemoteWork' after imputation: 0\n"
     ]
    }
   ],
   "source": [
    "most_frequent_remote_work = data['RemoteWork'].mode()[0]\n",
    "data['RemoteWork'].fillna(most_frequent_remote_work, inplace=True)\n",
    "print(\"Missing values in 'RemoteWork' after imputation:\", data['RemoteWork'].isnull().sum())"
   ]
  },
  {
   "cell_type": "code",
   "execution_count": 31,
   "id": "58a872ec-3c7c-4ff7-ac7e-9d9ad0e240c5",
   "metadata": {},
   "outputs": [
    {
     "name": "stdout",
     "output_type": "stream",
     "text": [
      "compensation related column ['CompTotal', 'AIComplex', 'ConvertedCompYearly']\n"
     ]
    }
   ],
   "source": [
    "comp = [col for col in data.columns if 'Comp' in col]\n",
    "print('compensation related column', comp)"
   ]
  },
  {
   "cell_type": "code",
   "execution_count": 39,
   "id": "70d34e83-71dc-44f5-ba19-97f08b761089",
   "metadata": {},
   "outputs": [
    {
     "name": "stdout",
     "output_type": "stream",
     "text": [
      "count    1.418000e+03\n",
      "mean     8.260054e+07\n",
      "std      2.669125e+09\n",
      "min      0.000000e+00\n",
      "25%      6.500000e+04\n",
      "50%      1.200000e+05\n",
      "75%      2.097500e+05\n",
      "max      1.000000e+11\n",
      "Name: CompTotal, dtype: float64\n"
     ]
    }
   ],
   "source": [
    "print(data['CompTotal'].describe())"
   ]
  },
  {
   "cell_type": "code",
   "execution_count": 43,
   "id": "a5a0b566-5a9e-4414-ae16-4011373c6b14",
   "metadata": {},
   "outputs": [
    {
     "name": "stdout",
     "output_type": "stream",
     "text": [
      "count                              1643\n",
      "unique                                5\n",
      "top       Bad at handling complex tasks\n",
      "freq                                523\n",
      "Name: AIComplex, dtype: object\n"
     ]
    }
   ],
   "source": [
    "print(data['AIComplex'].describe())"
   ]
  },
  {
   "cell_type": "code",
   "execution_count": 45,
   "id": "24c0d442-0a28-4b14-8d7c-94c04ab9bf01",
   "metadata": {},
   "outputs": [
    {
     "name": "stdout",
     "output_type": "stream",
     "text": [
      "count    1.409000e+03\n",
      "mean     1.022001e+05\n",
      "std      1.048656e+05\n",
      "min      4.000000e+00\n",
      "25%      4.500000e+04\n",
      "50%      8.280200e+04\n",
      "75%      1.350000e+05\n",
      "max      2.000000e+06\n",
      "Name: ConvertedCompYearly, dtype: float64\n"
     ]
    }
   ],
   "source": [
    "print(data['ConvertedCompYearly'].describe())"
   ]
  },
  {
   "cell_type": "code",
   "execution_count": null,
   "id": "d61d9a9a-e4e3-4da0-a754-5a493b0cffed",
   "metadata": {},
   "outputs": [],
   "source": []
  }
 ],
 "metadata": {
  "kernelspec": {
   "display_name": "Python [conda env:base] *",
   "language": "python",
   "name": "conda-base-py"
  },
  "language_info": {
   "codemirror_mode": {
    "name": "ipython",
    "version": 3
   },
   "file_extension": ".py",
   "mimetype": "text/x-python",
   "name": "python",
   "nbconvert_exporter": "python",
   "pygments_lexer": "ipython3",
   "version": "3.12.7"
  }
 },
 "nbformat": 4,
 "nbformat_minor": 5
}
